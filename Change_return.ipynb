{
 "cells": [
  {
   "cell_type": "code",
   "execution_count": 51,
   "id": "c6690d6c-4ceb-458e-8238-b60711eb5057",
   "metadata": {},
   "outputs": [],
   "source": [
    "def change_return():\n",
    "    while True:\n",
    "        try:\n",
    "            cost = float(input(\"please enter cost of the goods\"))\n",
    "            money_given = float(input(\"please enter the amount of money given\"))\n",
    "        except:\n",
    "            print(\"please enter only float or integer values:\")\n",
    "            continue\n",
    "        if money_given==cost:\n",
    "            print(\"you have no return, thank you for your vist\")\n",
    "            break\n",
    "        elif money_given<cost:\n",
    "            print(\"Not enough money, reenter those values please\")\n",
    "            continue\n",
    "        else:\n",
    "            print(f\"nice job, here are your return: {round(money_given - cost,2)}\")\n",
    "            print(f\"It is {int(money_given - cost)} euros and {int(100*(round(round(money_given-cost,2)-int(money_given-cost),2))) } cents\")\n",
    "            break"
   ]
  },
  {
   "cell_type": "code",
   "execution_count": 52,
   "id": "5aa66d35-6a51-474b-a429-073b9ba1db5f",
   "metadata": {},
   "outputs": [
    {
     "name": "stdin",
     "output_type": "stream",
     "text": [
      "please enter cost of the goods 5.21\n",
      "please enter the amount of money given 7.42\n"
     ]
    },
    {
     "name": "stdout",
     "output_type": "stream",
     "text": [
      "nice job, here are your return: 2.21\n",
      "It is 2 euros and 21 cents\n"
     ]
    }
   ],
   "source": [
    "change_return()"
   ]
  },
  {
   "cell_type": "code",
   "execution_count": null,
   "id": "9d8e24d2-8aee-4ec8-a67e-04e73c5175e4",
   "metadata": {},
   "outputs": [],
   "source": []
  }
 ],
 "metadata": {
  "kernelspec": {
   "display_name": "Python 3 (ipykernel)",
   "language": "python",
   "name": "python3"
  },
  "language_info": {
   "codemirror_mode": {
    "name": "ipython",
    "version": 3
   },
   "file_extension": ".py",
   "mimetype": "text/x-python",
   "name": "python",
   "nbconvert_exporter": "python",
   "pygments_lexer": "ipython3",
   "version": "3.9.0"
  }
 },
 "nbformat": 4,
 "nbformat_minor": 5
}
