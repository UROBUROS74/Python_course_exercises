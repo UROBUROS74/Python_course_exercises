{
 "cells": [
  {
   "cell_type": "code",
   "execution_count": 68,
   "id": "b5c56065-efaf-4d48-8f07-3c150baf0d0c",
   "metadata": {},
   "outputs": [],
   "source": [
    "def fib(x):\n",
    "    fibonaci = [0,1]\n",
    "    if x==0:\n",
    "        print(0)\n",
    "    elif x==1:\n",
    "        print(fibonaci)\n",
    "    else:\n",
    "        for i in range(1,x):\n",
    "            fibonaci.append(fibonaci[i-1]+fibonaci[i])\n",
    "            print(fibonaci)"
   ]
  },
  {
   "cell_type": "code",
   "execution_count": null,
   "id": "9f21469f-e74f-415a-8211-9fa39ddeb574",
   "metadata": {},
   "outputs": [],
   "source": [
    "fib(100)"
   ]
  },
  {
   "cell_type": "code",
   "execution_count": null,
   "id": "e89d1df3-b833-4db6-995a-f23cb73a946f",
   "metadata": {},
   "outputs": [],
   "source": []
  }
 ],
 "metadata": {
  "kernelspec": {
   "display_name": "Python 3 (ipykernel)",
   "language": "python",
   "name": "python3"
  },
  "language_info": {
   "codemirror_mode": {
    "name": "ipython",
    "version": 3
   },
   "file_extension": ".py",
   "mimetype": "text/x-python",
   "name": "python",
   "nbconvert_exporter": "python",
   "pygments_lexer": "ipython3",
   "version": "3.9.0"
  }
 },
 "nbformat": 4,
 "nbformat_minor": 5
}
