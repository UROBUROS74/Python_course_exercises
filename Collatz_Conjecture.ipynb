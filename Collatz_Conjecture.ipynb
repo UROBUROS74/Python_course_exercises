{
 "cells": [
  {
   "cell_type": "markdown",
   "id": "5bb379d6-c860-4d81-9593-59e508d106c6",
   "metadata": {},
   "source": [
    "**Collatz Conjecture** - Start with a number *n > 1*. Find the number of steps it takes to reach one using the following process: If *n* is even, divide it by 2. If *n* is odd, multiply it by 3 and add 1."
   ]
  },
  {
   "cell_type": "code",
   "execution_count": 16,
   "id": "c929c0c6-e111-415b-b917-50f08efc3aa2",
   "metadata": {},
   "outputs": [],
   "source": [
    "def Collatz():\n",
    "    while True:\n",
    "        try:\n",
    "            n = int(input(\"Please provide a number greater than 1\"))\n",
    "            if n==1 or n<=1:\n",
    "                print(\"Please provide a number greater and not equal to 1\")\n",
    "                continue\n",
    "            break\n",
    "        except ValueError as error:\n",
    "            print(error)\n",
    "    \n",
    "    counter = 0\n",
    "    while n!=1:\n",
    "        if n>1 and n%2==0:\n",
    "            n = n/2\n",
    "            counter+=1\n",
    "        elif n>1 and n%2!=0:\n",
    "            n = 3*n + 1\n",
    "            counter+=1\n",
    "        else:\n",
    "            break\n",
    "    print(f\"this is the number of the step needed to reach number one {counter}\")"
   ]
  },
  {
   "cell_type": "code",
   "execution_count": null,
   "id": "d6302784-3902-4805-8825-b412bef9a87b",
   "metadata": {},
   "outputs": [],
   "source": [
    "Collatz()"
   ]
  },
  {
   "cell_type": "code",
   "execution_count": null,
   "id": "bf0e3fbd-ecfd-480f-94f3-330192930dc8",
   "metadata": {},
   "outputs": [],
   "source": []
  },
  {
   "cell_type": "code",
   "execution_count": null,
   "id": "da899bbe-a293-42b3-935a-db487b031122",
   "metadata": {},
   "outputs": [],
   "source": []
  }
 ],
 "metadata": {
  "kernelspec": {
   "display_name": "Python 3 (ipykernel)",
   "language": "python",
   "name": "python3"
  },
  "language_info": {
   "codemirror_mode": {
    "name": "ipython",
    "version": 3
   },
   "file_extension": ".py",
   "mimetype": "text/x-python",
   "name": "python",
   "nbconvert_exporter": "python",
   "pygments_lexer": "ipython3",
   "version": "3.9.0"
  }
 },
 "nbformat": 4,
 "nbformat_minor": 5
}
