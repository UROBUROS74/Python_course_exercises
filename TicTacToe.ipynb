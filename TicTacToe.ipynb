{
 "cells": [
  {
   "cell_type": "code",
   "execution_count": 1,
   "id": "f823bc99",
   "metadata": {},
   "outputs": [],
   "source": [
    "def display_board(board):\n",
    "    \n",
    "    print(board[0]+\"|\"+board[1]+\"|\"+board[2])\n",
    "    print(\"-----\")\n",
    "    print(board[3]+\"|\"+board[4]+\"|\"+board[5])\n",
    "    print(\"-----\")\n",
    "    print(board[6]+\"|\"+board[7]+\"|\"+board[8])"
   ]
  },
  {
   "cell_type": "code",
   "execution_count": 2,
   "id": "4f56bb89",
   "metadata": {},
   "outputs": [],
   "source": [
    "def player_1():\n",
    "    \n",
    "    print(\"it's player1 move\")\n",
    "    choice = \"wrong\"\n",
    "    is_acceptable = False\n",
    "    empty_field = False\n",
    "    \n",
    "    while choice.isdigit()==False or is_acceptable==False or empty_field==False:\n",
    "        \n",
    "        choice = input(\"please choose the field\")\n",
    "        \n",
    "        if choice.isdigit()==False:\n",
    "            print(\"Please choose valid input(number in range fromm zero to nine including)\")\n",
    "                \n",
    "        if choice.isdigit()==True:\n",
    "            if int(choice) in range(0,9):\n",
    "                is_acceptable=True\n",
    "                if board[int(choice)]==\" \":\n",
    "                    empty_field=True\n",
    "                    board[int(choice)]=\"X\"\n",
    "                else:\n",
    "                    print(\"this field is already taken or out of range\")\n",
    "                    empty_field=False\n",
    "                \n",
    "    return display_board(board)\n",
    "            \n",
    "    \n",
    "    \n",
    "        \n",
    "    "
   ]
  },
  {
   "cell_type": "code",
   "execution_count": 3,
   "id": "fc4c6be6",
   "metadata": {},
   "outputs": [],
   "source": [
    "def player_2():\n",
    "    \n",
    "    print(\"it's player2 move\")\n",
    "    choice = \"wrong\"\n",
    "    is_acceptable = False\n",
    "    empty_field = False\n",
    "    \n",
    "    while choice.isdigit()==False or is_acceptable==False or empty_field==False:\n",
    "        \n",
    "        choice = input(\"please choose the field\")\n",
    "        \n",
    "        if choice.isdigit()==False:\n",
    "            print(\"Please choose valid input(number in range fromm zero to nine including)\")\n",
    "                \n",
    "        if choice.isdigit()==True:\n",
    "            if int(choice) in range(0,9):\n",
    "                is_acceptable=True\n",
    "                if board[int(choice)]==\" \":\n",
    "                    empty_field=True\n",
    "                    board[int(choice)]=\"O\"\n",
    "                else:\n",
    "                    print(\"this field is already taken or you are out of range\")\n",
    "                    empty_field=False\n",
    "                \n",
    "    return display_board(board)\n",
    "\n",
    "        \n",
    "        \n",
    "    "
   ]
  },
  {
   "cell_type": "code",
   "execution_count": 4,
   "id": "02173c18",
   "metadata": {},
   "outputs": [],
   "source": [
    "def check_win():\n",
    "    \n",
    "    win =False\n",
    "    if board[0]==board[1]==board[2]==\"0\" or board[3]==board[4]==board[5]==\"O\" or board[6]==board[7]==board[8]==\"O\":\n",
    "        win = True\n",
    "        print(\"player2 win\")\n",
    "    elif board[0]==board[3]==board[6]==\"0\" or board[1]==board[4]==board[7]==\"O\" or board[3]==board[5]==board[8]==\"O\":\n",
    "        win = True\n",
    "        print(\"player2 win\")\n",
    "    elif board[0]==board[4]==board[8]==\"0\" or board[2]==board[4]==board[6]==\"O\":\n",
    "        win = True\n",
    "        print(\"player2 win\")\n",
    "    if board[0]==board[1]==board[2]==\"X\" or board[3]==board[4]==board[5]==\"X\" or board[6]==board[7]==board[8]==\"X\":\n",
    "        win = True\n",
    "        print(\"player1 win\")\n",
    "    elif board[0]==board[3]==board[6]==\"X\" or board[1]==board[4]==board[7]==\"X\" or board[3]==board[5]==board[8]==\"X\":\n",
    "        win = True\n",
    "        print(\"player1 win\")\n",
    "    elif board[0]==board[4]==board[8]==\"X\" or board[2]==board[4]==board[6]==\"X\":\n",
    "        win = True\n",
    "        print(\"player1 win\")  \n",
    "    \n",
    "    return win \n",
    "        "
   ]
  },
  {
   "cell_type": "code",
   "execution_count": 5,
   "id": "084fd2e7",
   "metadata": {},
   "outputs": [],
   "source": [
    "from IPython.display import clear_output\n",
    "\n",
    "def play():\n",
    "    \n",
    "    global board\n",
    "    board = [\" \",\" \",\" \",\" \",\" \",\" \",\" \",\" \",\" \"]\n",
    "    display_board(board)\n",
    "    \n",
    "    while check_win()==False:\n",
    "        if check_win()==True:\n",
    "            break\n",
    "        elif check_tie()==[]:\n",
    "            break\n",
    "        else:\n",
    "            player_1()\n",
    "            if check_win() ==True:\n",
    "                break\n",
    "            elif check_tie()==[]:\n",
    "                break\n",
    "            else:\n",
    "                player_2()\n",
    "\n",
    "    clear_output()\n",
    "    if check_win()==True:\n",
    "        print(check_win())\n",
    "    elif check_tie()==[]:\n",
    "        print(\"remiza\")\n",
    "    answer = (input(\"Do you want to play again ? Press Y and hit enter if yes. Anything else if yo don't want to\")).upper()\n",
    "    if answer ==\"Y\":\n",
    "        play()\n",
    "    else: \n",
    "        print(\"Thank you for playing\")\n",
    "        pass\n",
    "\n",
    "    \n",
    "    "
   ]
  },
  {
   "cell_type": "code",
   "execution_count": 7,
   "id": "2cf4b9e2",
   "metadata": {},
   "outputs": [],
   "source": [
    "def check_tie():\n",
    "    appex = []\n",
    "    for place in board:\n",
    "        if place==\" \":\n",
    "            appex.append(place)\n",
    "    return appex"
   ]
  },
  {
   "cell_type": "code",
   "execution_count": 8,
   "id": "81321450",
   "metadata": {},
   "outputs": [
    {
     "name": "stdout",
     "output_type": "stream",
     "text": [
      "player1 win\n",
      "player1 win\n",
      "True\n"
     ]
    },
    {
     "name": "stdin",
     "output_type": "stream",
     "text": [
      "Do you want to play again ? Press Y and hit enter if yes. Anything else if yo don't want to m\n"
     ]
    },
    {
     "name": "stdout",
     "output_type": "stream",
     "text": [
      "Thank you for playing\n"
     ]
    }
   ],
   "source": [
    "play()"
   ]
  },
  {
   "cell_type": "code",
   "execution_count": null,
   "id": "42b5184c",
   "metadata": {},
   "outputs": [],
   "source": []
  }
 ],
 "metadata": {
  "kernelspec": {
   "display_name": "Python 3 (ipykernel)",
   "language": "python",
   "name": "python3"
  },
  "language_info": {
   "codemirror_mode": {
    "name": "ipython",
    "version": 3
   },
   "file_extension": ".py",
   "mimetype": "text/x-python",
   "name": "python",
   "nbconvert_exporter": "python",
   "pygments_lexer": "ipython3",
   "version": "3.9.0"
  }
 },
 "nbformat": 4,
 "nbformat_minor": 5
}
