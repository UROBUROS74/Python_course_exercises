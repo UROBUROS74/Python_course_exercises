{
 "cells": [
  {
   "cell_type": "code",
   "execution_count": 2,
   "id": "00d63d0c-040e-41ae-aceb-5f895fcb4fe2",
   "metadata": {},
   "outputs": [],
   "source": [
    "def scitanie(x,y):\n",
    "    return x+y"
   ]
  },
  {
   "cell_type": "code",
   "execution_count": 3,
   "id": "2a7bc018-4cca-424c-9f41-b4ff37763bee",
   "metadata": {},
   "outputs": [],
   "source": [
    "def odcitanie(x,y):\n",
    "    return x-y"
   ]
  },
  {
   "cell_type": "code",
   "execution_count": 4,
   "id": "ec10e655-dfe1-4a5f-8fae-ad09396485ac",
   "metadata": {},
   "outputs": [],
   "source": [
    "def delenie(x,y):\n",
    "    return x/y"
   ]
  },
  {
   "cell_type": "code",
   "execution_count": 5,
   "id": "22b385f2-0c47-478d-8958-cf6f0e3dfa1b",
   "metadata": {},
   "outputs": [],
   "source": [
    "def nasobenie(x,y):\n",
    "    return x*y"
   ]
  },
  {
   "cell_type": "code",
   "execution_count": 8,
   "id": "3e12c93d-ef1c-481c-9d59-76c3545c0cec",
   "metadata": {},
   "outputs": [],
   "source": [
    "def zadanie_cisel():\n",
    "    global x \n",
    "    global y\n",
    "    while True:\n",
    "        try:\n",
    "            x = float(input(\"prosím zadaj prvé číslo v poradí\"))\n",
    "            y = float(input(\"prosím zadaj druhé číslo v poradí\"))\n",
    "            break\n",
    "        except ValueError:\n",
    "            print(\"prosím zadávaj len celé alebo desatiné čísla\")"
   ]
  },
  {
   "cell_type": "code",
   "execution_count": 16,
   "id": "4c87a0ab-b6a4-49bf-affa-a337c9fe490b",
   "metadata": {},
   "outputs": [],
   "source": [
    "def vyber_operacie():\n",
    "    print(\"prosím vyber typ matematickej operácie\")\n",
    "    print('\"+\" pre sčítanie')\n",
    "    print('\"-\" pre odčítanie')\n",
    "    print('\"/\" pre delenie')\n",
    "    print('\"*\" pre násobenie')\n",
    "    while True:\n",
    "        global operácia\n",
    "        operácia = input(\"prosím vyber operáciu\")\n",
    "        if operácia == \"+\":\n",
    "            print(scitanie(x,y))\n",
    "            break\n",
    "        elif operácia == \"-\":\n",
    "            print(odcitanie(x,y))\n",
    "            break\n",
    "        elif operácia == \"*\":\n",
    "            print(nasobenie(x,y))\n",
    "            break\n",
    "        elif operácia == \"/\":\n",
    "            print(delenie(x,y))\n",
    "            break\n",
    "        else:\n",
    "            print(\"prosím zvoľte jednu z hore uvedených operácií\")"
   ]
  },
  {
   "cell_type": "code",
   "execution_count": 18,
   "id": "0dc626e3-1d70-4789-8ed1-14fe72cea012",
   "metadata": {},
   "outputs": [],
   "source": [
    "def final_function():\n",
    "    zadanie_cisel()\n",
    "    vyber_operacie()"
   ]
  },
  {
   "cell_type": "code",
   "execution_count": 20,
   "id": "3a854860-9b69-4ac5-afa3-f605079c95f7",
   "metadata": {},
   "outputs": [
    {
     "name": "stdin",
     "output_type": "stream",
     "text": [
      "prosím zadaj prvé číslo v poradí 5\n",
      "prosím zadaj druhé číslo v poradí 5\n"
     ]
    },
    {
     "name": "stdout",
     "output_type": "stream",
     "text": [
      "prosím vyber typ matematickej operácie\n",
      "\"+\" pre sčítanie\n",
      "\"-\" pre odčítanie\n",
      "\"/\" pre delenie\n",
      "\"*\" pre násobenie\n"
     ]
    },
    {
     "name": "stdin",
     "output_type": "stream",
     "text": [
      "prosím vyber operáciu *\n"
     ]
    },
    {
     "name": "stdout",
     "output_type": "stream",
     "text": [
      "25.0\n"
     ]
    }
   ],
   "source": [
    "final_function()"
   ]
  },
  {
   "cell_type": "code",
   "execution_count": null,
   "id": "8fb7ee09-3aa3-4c11-9f02-5b762a5ed905",
   "metadata": {},
   "outputs": [],
   "source": []
  }
 ],
 "metadata": {
  "kernelspec": {
   "display_name": "Python 3 (ipykernel)",
   "language": "python",
   "name": "python3"
  },
  "language_info": {
   "codemirror_mode": {
    "name": "ipython",
    "version": 3
   },
   "file_extension": ".py",
   "mimetype": "text/x-python",
   "name": "python",
   "nbconvert_exporter": "python",
   "pygments_lexer": "ipython3",
   "version": "3.9.0"
  }
 },
 "nbformat": 4,
 "nbformat_minor": 5
}
